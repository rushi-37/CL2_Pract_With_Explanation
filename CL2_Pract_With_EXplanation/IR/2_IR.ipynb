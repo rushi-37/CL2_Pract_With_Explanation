{
 "cells": [
  {
   "cell_type": "code",
   "execution_count": 33,
   "id": "aff11ca6-fcbe-4cf0-bd2e-ed5f5974f12c",
   "metadata": {},
   "outputs": [
    {
     "name": "stdout",
     "output_type": "stream",
     "text": [
      "1.Processed Corpus:\n",
      "   ['alice was beginning to get very tired of sitting by her sister on the bank  and of having nothing to do ', 'once or twice she had peeped into the book her sister was reading  but it had no pictures or conversations in it ', 'so she was considering in her own mind  as well as she could  for the hot day made her feel very sleepy  whether the pleasure of making a daisy chain would be worth the trouble of getting up and picking the daisies ', 'suddenly a white rabbit with pink eyes ran close by her ']\n",
      "\n",
      "2.Tokenized Corpus:\n",
      "   [['alice', 'was', 'beginning', 'to', 'get', 'very', 'tired', 'of', 'sitting', 'by', 'her', 'sister', 'on', 'the', 'bank', 'and', 'of', 'having', 'nothing', 'to', 'do'], ['once', 'or', 'twice', 'she', 'had', 'peeped', 'into', 'the', 'book', 'her', 'sister', 'was', 'reading', 'but', 'it', 'had', 'no', 'pictures', 'or', 'conversations', 'in', 'it'], ['so', 'she', 'was', 'considering', 'in', 'her', 'own', 'mind', 'as', 'well', 'as', 'she', 'could', 'for', 'the', 'hot', 'day', 'made', 'her', 'feel', 'very', 'sleepy', 'whether', 'the', 'pleasure', 'of', 'making', 'a', 'daisy', 'chain', 'would', 'be', 'worth', 'the', 'trouble', 'of', 'getting', 'up', 'and', 'picking', 'the', 'daisies'], ['suddenly', 'a', 'white', 'rabbit', 'with', 'pink', 'eyes', 'ran', 'close', 'by', 'her']]\n"
     ]
    },
    {
     "name": "stderr",
     "output_type": "stream",
     "text": [
      "[nltk_data] Downloading package stopwords to\n",
      "[nltk_data]     C:\\Users\\Om\\AppData\\Roaming\\nltk_data...\n",
      "[nltk_data]   Package stopwords is already up-to-date!\n"
     ]
    },
    {
     "name": "stdout",
     "output_type": "stream",
     "text": [
      "\n",
      "3.Tokens without Stop Words:\n",
      "   ['alice', 'beginning', 'tired', 'sitting', 'sister', 'bank', 'peeped', 'book', 'sister', 'reading', 'pictures', 'conversations', 'considering', 'mind', 'hot', 'day', 'made', 'feel', 'sleepy', 'pleasure', 'making', 'daisy', 'chain', 'worth', 'trouble', 'picking', 'daisies', 'suddenly', 'white', 'rabbit', 'pink', 'eyes', 'ran', 'close']\n",
      "\n",
      "4.Inverted Index:\n",
      "   {'alice': [1], 'beginning': [1], 'tired': [1], 'sitting': [1], 'sister': [1, 1, 2, 2], 'bank': [1], 'peeped': [2], 'book': [2], 'reading': [2], 'pictures': [2], 'conversations': [2], 'considering': [3], 'mind': [3], 'hot': [3], 'day': [3], 'made': [3], 'feel': [3], 'sleepy': [3], 'pleasure': [3], 'making': [3], 'daisy': [3], 'chain': [3], 'worth': [3], 'trouble': [3], 'picking': [3], 'daisies': [3], 'suddenly': [4], 'white': [4], 'rabbit': [4], 'pink': [4], 'eyes': [4], 'ran': [4], 'close': [4]}\n"
     ]
    },
    {
     "data": {
      "text/plain": [
       "'\\n    Explanation:\\nCorpus Processing: Removes punctuation and converts text to lowercase for consistency.\\nTokenization: Splits sentences into words.\\nStopword Removal: Filters out common stop words.\\nInverted Index Creation: Maps each unique word to the list of sentences it appears in.\\nThe output will be an inverted index where each word is associated with the sentence numbers containing it. Let me know if any additional tweaks are needed!\\n\\n'"
      ]
     },
     "execution_count": 33,
     "metadata": {},
     "output_type": "execute_result"
    }
   ],
   "source": [
    "# Define the corpus manually\n",
    "corpus = [\n",
    "    \"Alice was beginning to get very tired of sitting by her sister on the bank, and of having nothing to do.\",\n",
    "    \"Once or twice she had peeped into the book her sister was reading, but it had no pictures or conversations in it.\",\n",
    "    \"So she was considering in her own mind (as well as she could, for the hot day made her feel very sleepy) whether the pleasure of making a daisy-chain would be worth the trouble of getting up and picking the daisies.\",\n",
    "    \"Suddenly a White Rabbit with pink eyes ran close by her.\"\n",
    "]\n",
    "\n",
    "# Step 1: Remove punctuation\n",
    "punc = '''!()-[]{};:'\"\\,<>./?@#$%^&*_~'''\n",
    "processed_corpus = []\n",
    "for sentence in corpus:\n",
    "    for ele in sentence:\n",
    "        if ele in punc:\n",
    "            sentence = sentence.replace(ele, \" \")\n",
    "    processed_corpus.append(sentence.lower())\n",
    "print(\"1.Processed Corpus:\\n  \", processed_corpus)\n",
    "\n",
    "# Step 2: Tokenize the data into individual words\n",
    "def tokenize_words(corpus):\n",
    "    result = []\n",
    "    for line in corpus:\n",
    "        result.append(line.split())\n",
    "    return result\n",
    "\n",
    "tokenized_corpus = tokenize_words(processed_corpus)\n",
    "print(\"\\n2.Tokenized Corpus:\\n  \", tokenized_corpus)\n",
    "\n",
    "# Step 3: Remove stop words\n",
    "import nltk\n",
    "from nltk.corpus import stopwords\n",
    "from nltk.tokenize import word_tokenize\n",
    "\n",
    "nltk.download('stopwords')\n",
    "\n",
    "tokens_without_sw = []\n",
    "for sentence in processed_corpus:\n",
    "    text_tokens = word_tokenize(sentence)\n",
    "    tokens_without_sw.extend([word for word in text_tokens if word not in stopwords.words()])\n",
    "\n",
    "print(\"\\n3.Tokens without Stop Words:\\n  \", tokens_without_sw)\n",
    "\n",
    "# Step 4: Create an inverted index\n",
    "inverted_index = {}\n",
    "for i, sentence in enumerate(processed_corpus):\n",
    "    for word in tokens_without_sw:\n",
    "        if word in sentence:\n",
    "            if word not in inverted_index:\n",
    "                inverted_index[word] = []\n",
    "            inverted_index[word].append(i + 1)\n",
    "\n",
    "print(\"\\n4.Inverted Index:\\n  \", inverted_index)\n",
    "\n",
    "'''\n",
    "    Explanation:\n",
    "Corpus Processing: Removes punctuation and converts text to lowercase for consistency.\n",
    "Tokenization: Splits sentences into words.\n",
    "Stopword Removal: Filters out common stop words.\n",
    "Inverted Index Creation: Maps each unique word to the list of sentences it appears in.\n",
    "The output will be an inverted index where each word is associated with the sentence numbers containing it. Let me know if any additional tweaks are needed!\n",
    "\n",
    "'''"
   ]
  },
  {
   "cell_type": "code",
   "execution_count": null,
   "id": "fa23a205-2b4f-47c3-b52d-fee95b472264",
   "metadata": {},
   "outputs": [],
   "source": []
  }
 ],
 "metadata": {
  "kernelspec": {
   "display_name": "Python 3 (ipykernel)",
   "language": "python",
   "name": "python3"
  },
  "language_info": {
   "codemirror_mode": {
    "name": "ipython",
    "version": 3
   },
   "file_extension": ".py",
   "mimetype": "text/x-python",
   "name": "python",
   "nbconvert_exporter": "python",
   "pygments_lexer": "ipython3",
   "version": "3.11.7"
  }
 },
 "nbformat": 4,
 "nbformat_minor": 5
}
