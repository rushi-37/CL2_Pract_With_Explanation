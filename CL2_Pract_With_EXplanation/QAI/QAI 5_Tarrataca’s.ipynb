{
 "cells": [
  {
   "cell_type": "code",
   "execution_count": 1,
   "metadata": {},
   "outputs": [],
   "source": [
    "#Implement Tarrataca’s quantum production system with the 3-puzzle problem\n"
   ]
  },
  {
   "cell_type": "code",
   "execution_count": 2,
   "metadata": {},
   "outputs": [],
   "source": [
    "# Import necessary modules from Qiskit and plotting libraries\n",
    "from qiskit import QuantumCircuit, ClassicalRegister, QuantumRegister, transpile\n",
    "from qiskit.circuit.library import GroverOperator\n",
    "import matplotlib.pyplot as plt\n",
    "import seaborn as sns\n",
    "from qiskit_aer import AerSimulator"
   ]
  },
  {
   "cell_type": "code",
   "execution_count": 4,
   "metadata": {},
   "outputs": [],
   "source": [
    "# Define a function to create the quantum circuit for solving the 3-puzzle problem\n",
    "def create_3_puzzle_circuit():\n",
    "    \"\"\"Create the quantum circuit for solving the 3-puzzle problem using Grover's algorithm.\"\"\"\n",
    "    # Initialize quantum and classical registers\n",
    "    qr = QuantumRegister(3, 'q')  # Quantum register with 3 qubits for the puzzle\n",
    "    cr = ClassicalRegister(3, 'c')  # Classical register for measurement\n",
    "    qc = QuantumCircuit(qr, cr)\n",
    "\n",
    "    # Initial state |000>\n",
    "    # CNOT gates to exchange positions of qubits (represent tile swaps)\n",
    "    qc.cx(qr[0], qr[1])  # Swap qubit positions between q0 and q1\n",
    "    qc.cx(qr[1], qr[2])  # Swap qubit positions between q1 and q2\n",
    "\n",
    "    # Apply Hadamard gates to put qubits into superposition\n",
    "    qc.h(qr[0])\n",
    "    qc.h(qr[1])\n",
    "    qc.h(qr[2])\n",
    "\n",
    "    # Define a simple oracle for the 3-puzzle problem\n",
    "    oracle = QuantumCircuit(3)\n",
    "    oracle.z(0)  # Placeholder oracle condition (modify based on specific puzzle configuration)\n",
    "    oracle_gate = oracle.to_gate(label=\"Oracle\")  # Convert oracle to a gate for Grover's operator\n",
    "    # Grover operator with the defined oracle\n",
    "    grover_operator = GroverOperator(oracle)\n",
    "    qc.append(grover_operator, qr)  # Append Grover's operator to the circuit\n",
    "\n",
    "    # Measure the qubits and store the results in the classical register\n",
    "    qc.measure(qr, cr)\n",
    "    return qc"
   ]
  },
  {
   "cell_type": "code",
   "execution_count": 5,
   "metadata": {},
   "outputs": [
    {
     "name": "stdout",
     "output_type": "stream",
     "text": [
      "Measurement results from the 3-puzzle quantum circuit:\n",
      "{'101': 134, '000': 115, '110': 134, '010': 124, '001': 132, '111': 145, '011': 120, '100': 120}\n"
     ]
    }
   ],
   "source": [
    "# Create the 3-puzzle quantum circuit\n",
    "qc = create_3_puzzle_circuit()\n",
    "\n",
    "# Set up the Aer simulator for executing the circuit\n",
    "simulator = AerSimulator()\n",
    "transpiled_qc = transpile(qc, simulator)\n",
    "\n",
    "# Execute the circuit on the simulator, using 1024 shots to gather measurement statistics\n",
    "job = simulator.run(transpiled_qc, shots=1024)\n",
    "result = job.result()\n",
    "counts = result.get_counts()\n",
    "\n",
    "# Output the result\n",
    "print(\"Measurement results from the 3-puzzle quantum circuit:\")\n",
    "print(counts)"
   ]
  },
  {
   "cell_type": "code",
   "execution_count": 6,
   "metadata": {},
   "outputs": [
    {
     "name": "stderr",
     "output_type": "stream",
     "text": [
      "C:\\Users\\Om\\anaconda3\\Lib\\site-packages\\seaborn\\_oldcore.py:1765: FutureWarning: unique with argument that is not not a Series, Index, ExtensionArray, or np.ndarray is deprecated and will raise in a future version.\n",
      "  order = pd.unique(vector)\n"
     ]
    },
    {
     "data": {
      "image/png": "[encoded data removed]",
      "text/plain": [
       "<Figure size 640x480 with 1 Axes>"
      ]
     },
     "metadata": {},
     "output_type": "display_data"
    }
   ],
   "source": [
    "sns.barplot(x=list(counts.keys()), y=list(counts.values()))\n",
    "plt.xlabel('Measurement Outcomes')\n",
    "plt.ylabel('Counts')\n",
    "plt.title('3-Puzzle Quantum Circuit Measurement Results')\n",
    "plt.show()"
   ]
  },
  {
   "cell_type": "code",
   "execution_count": null,
   "metadata": {},
   "outputs": [],
   "source": []
  },
  {
   "cell_type": "code",
   "execution_count": null,
   "metadata": {},
   "outputs": [],
   "source": []
  },
  {
   "cell_type": "code",
   "execution_count": null,
   "metadata": {},
   "outputs": [],
   "source": []
  }
 ],
 "metadata": {
  "kernelspec": {
   "display_name": "Python 3 (ipykernel)",
   "language": "python",
   "name": "python3"
  },
  "language_info": {
   "codemirror_mode": {
    "name": "ipython",
    "version": 3
   },
   "file_extension": ".py",
   "mimetype": "text/x-python",
   "name": "python",
   "nbconvert_exporter": "python",
   "pygments_lexer": "ipython3",
   "version": "3.11.7"
  }
 },
 "nbformat": 4,
 "nbformat_minor": 4
}
