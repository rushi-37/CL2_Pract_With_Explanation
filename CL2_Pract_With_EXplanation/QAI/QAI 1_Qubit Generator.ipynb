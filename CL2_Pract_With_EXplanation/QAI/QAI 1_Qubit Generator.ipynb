{
 "cells": [
  {
   "cell_type": "code",
   "execution_count": 6,
   "id": "74d0b22f-cf05-4d9c-971c-0d1d01b905bb",
   "metadata": {},
   "outputs": [
    {
     "name": "stdout",
     "output_type": "stream",
     "text": [
      "Requirement already satisfied: qiskit in c:\\users\\om\\anaconda3\\lib\\site-packages (1.2.4)\n",
      "Requirement already satisfied: rustworkx>=0.15.0 in c:\\users\\om\\anaconda3\\lib\\site-packages (from qiskit) (0.15.1)\n",
      "Requirement already satisfied: numpy<3,>=1.17 in c:\\users\\om\\anaconda3\\lib\\site-packages (from qiskit) (1.23.5)\n",
      "Requirement already satisfied: scipy>=1.5 in c:\\users\\om\\anaconda3\\lib\\site-packages (from qiskit) (1.11.4)\n",
      "Requirement already satisfied: sympy>=1.3 in c:\\users\\om\\anaconda3\\lib\\site-packages (from qiskit) (1.13.1)\n",
      "Requirement already satisfied: dill>=0.3 in c:\\users\\om\\anaconda3\\lib\\site-packages (from qiskit) (0.3.7)\n",
      "Requirement already satisfied: python-dateutil>=2.8.0 in c:\\users\\om\\anaconda3\\lib\\site-packages (from qiskit) (2.8.2)\n",
      "Requirement already satisfied: stevedore>=3.0.0 in c:\\users\\om\\anaconda3\\lib\\site-packages (from qiskit) (5.3.0)\n",
      "Requirement already satisfied: typing-extensions in c:\\users\\om\\anaconda3\\lib\\site-packages (from qiskit) (4.9.0)\n",
      "Requirement already satisfied: symengine<0.14,>=0.11 in c:\\users\\om\\anaconda3\\lib\\site-packages (from qiskit) (0.13.0)\n",
      "Requirement already satisfied: six>=1.5 in c:\\users\\om\\anaconda3\\lib\\site-packages (from python-dateutil>=2.8.0->qiskit) (1.16.0)\n",
      "Requirement already satisfied: pbr>=2.0.0 in c:\\users\\om\\anaconda3\\lib\\site-packages (from stevedore>=3.0.0->qiskit) (6.1.0)\n",
      "Requirement already satisfied: mpmath<1.4,>=1.1.0 in c:\\users\\om\\anaconda3\\lib\\site-packages (from sympy>=1.3->qiskit) (1.3.0)\n",
      "Requirement already satisfied: qiskit_aer in c:\\users\\om\\anaconda3\\lib\\site-packages (0.15.1)\n",
      "Requirement already satisfied: qiskit>=1.1.0 in c:\\users\\om\\anaconda3\\lib\\site-packages (from qiskit_aer) (1.2.4)\n",
      "Requirement already satisfied: numpy>=1.16.3 in c:\\users\\om\\anaconda3\\lib\\site-packages (from qiskit_aer) (1.23.5)\n",
      "Requirement already satisfied: scipy>=1.0 in c:\\users\\om\\anaconda3\\lib\\site-packages (from qiskit_aer) (1.11.4)\n",
      "Requirement already satisfied: psutil>=5 in c:\\users\\om\\anaconda3\\lib\\site-packages (from qiskit_aer) (5.9.0)\n",
      "Requirement already satisfied: rustworkx>=0.15.0 in c:\\users\\om\\anaconda3\\lib\\site-packages (from qiskit>=1.1.0->qiskit_aer) (0.15.1)\n",
      "Requirement already satisfied: sympy>=1.3 in c:\\users\\om\\anaconda3\\lib\\site-packages (from qiskit>=1.1.0->qiskit_aer) (1.13.1)\n",
      "Requirement already satisfied: dill>=0.3 in c:\\users\\om\\anaconda3\\lib\\site-packages (from qiskit>=1.1.0->qiskit_aer) (0.3.7)\n",
      "Requirement already satisfied: python-dateutil>=2.8.0 in c:\\users\\om\\anaconda3\\lib\\site-packages (from qiskit>=1.1.0->qiskit_aer) (2.8.2)\n",
      "Requirement already satisfied: stevedore>=3.0.0 in c:\\users\\om\\anaconda3\\lib\\site-packages (from qiskit>=1.1.0->qiskit_aer) (5.3.0)\n",
      "Requirement already satisfied: typing-extensions in c:\\users\\om\\anaconda3\\lib\\site-packages (from qiskit>=1.1.0->qiskit_aer) (4.9.0)\n",
      "Requirement already satisfied: symengine<0.14,>=0.11 in c:\\users\\om\\anaconda3\\lib\\site-packages (from qiskit>=1.1.0->qiskit_aer) (0.13.0)\n",
      "Requirement already satisfied: six>=1.5 in c:\\users\\om\\anaconda3\\lib\\site-packages (from python-dateutil>=2.8.0->qiskit>=1.1.0->qiskit_aer) (1.16.0)\n",
      "Requirement already satisfied: pbr>=2.0.0 in c:\\users\\om\\anaconda3\\lib\\site-packages (from stevedore>=3.0.0->qiskit>=1.1.0->qiskit_aer) (6.1.0)\n",
      "Requirement already satisfied: mpmath<1.4,>=1.1.0 in c:\\users\\om\\anaconda3\\lib\\site-packages (from sympy>=1.3->qiskit>=1.1.0->qiskit_aer) (1.3.0)\n"
     ]
    }
   ],
   "source": [
    "!pip install qiskit\n",
    "!pip install qiskit_aer"
   ]
  },
  {
   "cell_type": "code",
   "execution_count": 9,
   "id": "8e453239-e526-480b-87b3-d1dcd1ae0467",
   "metadata": {},
   "outputs": [],
   "source": [
    "from qiskit import QuantumCircuit\n",
    "from qiskit.primitives import Sampler\n",
    "from qiskit.visualization import circuit_drawer\n",
    "from qiskit_aer import AerSimulator  # Make sure qiskit-aer is installed\n",
    "from qiskit_aer import Aer\n",
    "\n"
   ]
  },
  {
   "cell_type": "code",
   "execution_count": 10,
   "id": "b3db90e4-fb3a-40fb-99bb-0c4a6bd260c5",
   "metadata": {},
   "outputs": [
    {
     "data": {
      "text/plain": [
       "<qiskit.circuit.instructionset.InstructionSet at 0x23eb8c771c0>"
      ]
     },
     "execution_count": 10,
     "metadata": {},
     "output_type": "execute_result"
    }
   ],
   "source": [
    "# Step 1: Initialize the 16-qubit circuit\n",
    "circuit = QuantumCircuit(16, 16)\n",
    "circuit.h(range(16))  # Apply Hadamard gate to all qubits\n",
    "circuit.measure(range(16), range(16))  # Measure all qubits\n",
    "\n"
   ]
  },
  {
   "cell_type": "code",
   "execution_count": 11,
   "id": "80193a64-a0bd-408b-921c-88ce99b50360",
   "metadata": {},
   "outputs": [
    {
     "name": "stdout",
     "output_type": "stream",
     "text": [
      "      ┌───┐┌─┐                                             \n",
      " q_0: ┤ H ├┤M├─────────────────────────────────────────────\n",
      "      ├───┤└╥┘┌─┐                                          \n",
      " q_1: ┤ H ├─╫─┤M├──────────────────────────────────────────\n",
      "      ├───┤ ║ └╥┘┌─┐                                       \n",
      " q_2: ┤ H ├─╫──╫─┤M├───────────────────────────────────────\n",
      "      ├───┤ ║  ║ └╥┘┌─┐                                    \n",
      " q_3: ┤ H ├─╫──╫──╫─┤M├────────────────────────────────────\n",
      "      ├───┤ ║  ║  ║ └╥┘┌─┐                                 \n",
      " q_4: ┤ H ├─╫──╫──╫──╫─┤M├─────────────────────────────────\n",
      "      ├───┤ ║  ║  ║  ║ └╥┘┌─┐                              \n",
      " q_5: ┤ H ├─╫──╫──╫──╫──╫─┤M├──────────────────────────────\n",
      "      ├───┤ ║  ║  ║  ║  ║ └╥┘┌─┐                           \n",
      " q_6: ┤ H ├─╫──╫──╫──╫──╫──╫─┤M├───────────────────────────\n",
      "      ├───┤ ║  ║  ║  ║  ║  ║ └╥┘┌─┐                        \n",
      " q_7: ┤ H ├─╫──╫──╫──╫──╫──╫──╫─┤M├────────────────────────\n",
      "      ├───┤ ║  ║  ║  ║  ║  ║  ║ └╥┘┌─┐                     \n",
      " q_8: ┤ H ├─╫──╫──╫──╫──╫──╫──╫──╫─┤M├─────────────────────\n",
      "      ├───┤ ║  ║  ║  ║  ║  ║  ║  ║ └╥┘┌─┐                  \n",
      " q_9: ┤ H ├─╫──╫──╫──╫──╫──╫──╫──╫──╫─┤M├──────────────────\n",
      "      ├───┤ ║  ║  ║  ║  ║  ║  ║  ║  ║ └╥┘┌─┐               \n",
      "q_10: ┤ H ├─╫──╫──╫──╫──╫──╫──╫──╫──╫──╫─┤M├───────────────\n",
      "      ├───┤ ║  ║  ║  ║  ║  ║  ║  ║  ║  ║ └╥┘┌─┐            \n",
      "q_11: ┤ H ├─╫──╫──╫──╫──╫──╫──╫──╫──╫──╫──╫─┤M├────────────\n",
      "      ├───┤ ║  ║  ║  ║  ║  ║  ║  ║  ║  ║  ║ └╥┘┌─┐         \n",
      "q_12: ┤ H ├─╫──╫──╫──╫──╫──╫──╫──╫──╫──╫──╫──╫─┤M├─────────\n",
      "      ├───┤ ║  ║  ║  ║  ║  ║  ║  ║  ║  ║  ║  ║ └╥┘┌─┐      \n",
      "q_13: ┤ H ├─╫──╫──╫──╫──╫──╫──╫──╫──╫──╫──╫──╫──╫─┤M├──────\n",
      "      ├───┤ ║  ║  ║  ║  ║  ║  ║  ║  ║  ║  ║  ║  ║ └╥┘┌─┐   \n",
      "q_14: ┤ H ├─╫──╫──╫──╫──╫──╫──╫──╫──╫──╫──╫──╫──╫──╫─┤M├───\n",
      "      ├───┤ ║  ║  ║  ║  ║  ║  ║  ║  ║  ║  ║  ║  ║  ║ └╥┘┌─┐\n",
      "q_15: ┤ H ├─╫──╫──╫──╫──╫──╫──╫──╫──╫──╫──╫──╫──╫──╫──╫─┤M├\n",
      "      └───┘ ║  ║  ║  ║  ║  ║  ║  ║  ║  ║  ║  ║  ║  ║  ║ └╥┘\n",
      "c: 16/══════╩══╩══╩══╩══╩══╩══╩══╩══╩══╩══╩══╩══╩══╩══╩══╩═\n",
      "            0  1  2  3  4  5  6  7  8  9  10 11 12 13 14 15\n"
     ]
    },
    {
     "data": {
      "text/html": [
       "<pre style=\"word-wrap: normal;white-space: pre;background: #fff0;line-height: 1.1;font-family: &quot;Courier New&quot;,Courier,monospace\">      ┌───┐┌─┐                                             \n",
       " q_0: ┤ H ├┤M├─────────────────────────────────────────────\n",
       "      ├───┤└╥┘┌─┐                                          \n",
       " q_1: ┤ H ├─╫─┤M├──────────────────────────────────────────\n",
       "      ├───┤ ║ └╥┘┌─┐                                       \n",
       " q_2: ┤ H ├─╫──╫─┤M├───────────────────────────────────────\n",
       "      ├───┤ ║  ║ └╥┘┌─┐                                    \n",
       " q_3: ┤ H ├─╫──╫──╫─┤M├────────────────────────────────────\n",
       "      ├───┤ ║  ║  ║ └╥┘┌─┐                                 \n",
       " q_4: ┤ H ├─╫──╫──╫──╫─┤M├─────────────────────────────────\n",
       "      ├───┤ ║  ║  ║  ║ └╥┘┌─┐                              \n",
       " q_5: ┤ H ├─╫──╫──╫──╫──╫─┤M├──────────────────────────────\n",
       "      ├───┤ ║  ║  ║  ║  ║ └╥┘┌─┐                           \n",
       " q_6: ┤ H ├─╫──╫──╫──╫──╫──╫─┤M├───────────────────────────\n",
       "      ├───┤ ║  ║  ║  ║  ║  ║ └╥┘┌─┐                        \n",
       " q_7: ┤ H ├─╫──╫──╫──╫──╫──╫──╫─┤M├────────────────────────\n",
       "      ├───┤ ║  ║  ║  ║  ║  ║  ║ └╥┘┌─┐                     \n",
       " q_8: ┤ H ├─╫──╫──╫──╫──╫──╫──╫──╫─┤M├─────────────────────\n",
       "      ├───┤ ║  ║  ║  ║  ║  ║  ║  ║ └╥┘┌─┐                  \n",
       " q_9: ┤ H ├─╫──╫──╫──╫──╫──╫──╫──╫──╫─┤M├──────────────────\n",
       "      ├───┤ ║  ║  ║  ║  ║  ║  ║  ║  ║ └╥┘┌─┐               \n",
       "q_10: ┤ H ├─╫──╫──╫──╫──╫──╫──╫──╫──╫──╫─┤M├───────────────\n",
       "      ├───┤ ║  ║  ║  ║  ║  ║  ║  ║  ║  ║ └╥┘┌─┐            \n",
       "q_11: ┤ H ├─╫──╫──╫──╫──╫──╫──╫──╫──╫──╫──╫─┤M├────────────\n",
       "      ├───┤ ║  ║  ║  ║  ║  ║  ║  ║  ║  ║  ║ └╥┘┌─┐         \n",
       "q_12: ┤ H ├─╫──╫──╫──╫──╫──╫──╫──╫──╫──╫──╫──╫─┤M├─────────\n",
       "      ├───┤ ║  ║  ║  ║  ║  ║  ║  ║  ║  ║  ║  ║ └╥┘┌─┐      \n",
       "q_13: ┤ H ├─╫──╫──╫──╫──╫──╫──╫──╫──╫──╫──╫──╫──╫─┤M├──────\n",
       "      ├───┤ ║  ║  ║  ║  ║  ║  ║  ║  ║  ║  ║  ║  ║ └╥┘┌─┐   \n",
       "q_14: ┤ H ├─╫──╫──╫──╫──╫──╫──╫──╫──╫──╫──╫──╫──╫──╫─┤M├───\n",
       "      ├───┤ ║  ║  ║  ║  ║  ║  ║  ║  ║  ║  ║  ║  ║  ║ └╥┘┌─┐\n",
       "q_15: ┤ H ├─╫──╫──╫──╫──╫──╫──╫──╫──╫──╫──╫──╫──╫──╫──╫─┤M├\n",
       "      └───┘ ║  ║  ║  ║  ║  ║  ║  ║  ║  ║  ║  ║  ║  ║  ║ └╥┘\n",
       "c: 16/══════╩══╩══╩══╩══╩══╩══╩══╩══╩══╩══╩══╩══╩══╩══╩══╩═\n",
       "            0  1  2  3  4  5  6  7  8  9  10 11 12 13 14 15</pre>"
      ],
      "text/plain": [
       "      ┌───┐┌─┐                                             \n",
       " q_0: ┤ H ├┤M├─────────────────────────────────────────────\n",
       "      ├───┤└╥┘┌─┐                                          \n",
       " q_1: ┤ H ├─╫─┤M├──────────────────────────────────────────\n",
       "      ├───┤ ║ └╥┘┌─┐                                       \n",
       " q_2: ┤ H ├─╫──╫─┤M├───────────────────────────────────────\n",
       "      ├───┤ ║  ║ └╥┘┌─┐                                    \n",
       " q_3: ┤ H ├─╫──╫──╫─┤M├────────────────────────────────────\n",
       "      ├───┤ ║  ║  ║ └╥┘┌─┐                                 \n",
       " q_4: ┤ H ├─╫──╫──╫──╫─┤M├─────────────────────────────────\n",
       "      ├───┤ ║  ║  ║  ║ └╥┘┌─┐                              \n",
       " q_5: ┤ H ├─╫──╫──╫──╫──╫─┤M├──────────────────────────────\n",
       "      ├───┤ ║  ║  ║  ║  ║ └╥┘┌─┐                           \n",
       " q_6: ┤ H ├─╫──╫──╫──╫──╫──╫─┤M├───────────────────────────\n",
       "      ├───┤ ║  ║  ║  ║  ║  ║ └╥┘┌─┐                        \n",
       " q_7: ┤ H ├─╫──╫──╫──╫──╫──╫──╫─┤M├────────────────────────\n",
       "      ├───┤ ║  ║  ║  ║  ║  ║  ║ └╥┘┌─┐                     \n",
       " q_8: ┤ H ├─╫──╫──╫──╫──╫──╫──╫──╫─┤M├─────────────────────\n",
       "      ├───┤ ║  ║  ║  ║  ║  ║  ║  ║ └╥┘┌─┐                  \n",
       " q_9: ┤ H ├─╫──╫──╫──╫──╫──╫──╫──╫──╫─┤M├──────────────────\n",
       "      ├───┤ ║  ║  ║  ║  ║  ║  ║  ║  ║ └╥┘┌─┐               \n",
       "q_10: ┤ H ├─╫──╫──╫──╫──╫──╫──╫──╫──╫──╫─┤M├───────────────\n",
       "      ├───┤ ║  ║  ║  ║  ║  ║  ║  ║  ║  ║ └╥┘┌─┐            \n",
       "q_11: ┤ H ├─╫──╫──╫──╫──╫──╫──╫──╫──╫──╫──╫─┤M├────────────\n",
       "      ├───┤ ║  ║  ║  ║  ║  ║  ║  ║  ║  ║  ║ └╥┘┌─┐         \n",
       "q_12: ┤ H ├─╫──╫──╫──╫──╫──╫──╫──╫──╫──╫──╫──╫─┤M├─────────\n",
       "      ├───┤ ║  ║  ║  ║  ║  ║  ║  ║  ║  ║  ║  ║ └╥┘┌─┐      \n",
       "q_13: ┤ H ├─╫──╫──╫──╫──╫──╫──╫──╫──╫──╫──╫──╫──╫─┤M├──────\n",
       "      ├───┤ ║  ║  ║  ║  ║  ║  ║  ║  ║  ║  ║  ║  ║ └╥┘┌─┐   \n",
       "q_14: ┤ H ├─╫──╫──╫──╫──╫──╫──╫──╫──╫──╫──╫──╫──╫──╫─┤M├───\n",
       "      ├───┤ ║  ║  ║  ║  ║  ║  ║  ║  ║  ║  ║  ║  ║  ║ └╥┘┌─┐\n",
       "q_15: ┤ H ├─╫──╫──╫──╫──╫──╫──╫──╫──╫──╫──╫──╫──╫──╫──╫─┤M├\n",
       "      └───┘ ║  ║  ║  ║  ║  ║  ║  ║  ║  ║  ║  ║  ║  ║  ║ └╥┘\n",
       "c: 16/══════╩══╩══╩══╩══╩══╩══╩══╩══╩══╩══╩══╩══╩══╩══╩══╩═\n",
       "            0  1  2  3  4  5  6  7  8  9  10 11 12 13 14 15"
      ]
     },
     "execution_count": 11,
     "metadata": {},
     "output_type": "execute_result"
    }
   ],
   "source": [
    "# Step 2: Display the circuit\n",
    "print(circuit)\n",
    "circuit_drawer(circuit, output='text')  # Visualize the circuit as text\n",
    "\n"
   ]
  },
  {
   "cell_type": "code",
   "execution_count": 12,
   "id": "fe3a16af-3308-466e-881d-8b3b12627389",
   "metadata": {},
   "outputs": [],
   "source": [
    "# Step 3: Use the simulator\n",
    "simulator = AerSimulator()\n",
    "compiled_circuit = transpile(circuit, simulator)  # Transpile for the simulator\n",
    "\n"
   ]
  },
  {
   "cell_type": "code",
   "execution_count": 13,
   "id": "6738cd01-8663-461b-b341-eb0a5837a674",
   "metadata": {},
   "outputs": [],
   "source": [
    "# Step 4: Run the simulation with a single shot to get one random 16-bit number\n",
    "job = simulator.run(compiled_circuit, shots=1)\n",
    "result = job.result()\n",
    "counts = result.get_counts(compiled_circuit)\n",
    "\n"
   ]
  },
  {
   "cell_type": "code",
   "execution_count": 14,
   "id": "75d59704-6a40-4290-99fe-ede89777f420",
   "metadata": {},
   "outputs": [],
   "source": [
    "# Step 5: Extract and convert the result\n",
    "random_number = int(list(counts.keys())[0], 2)\n",
    "binary_number = bin(random_number)[2:].zfill(16)\n",
    "\n"
   ]
  },
  {
   "cell_type": "code",
   "execution_count": 15,
   "id": "cc47b617-3f68-48a9-bc72-c1dea56145f4",
   "metadata": {},
   "outputs": [
    {
     "name": "stdout",
     "output_type": "stream",
     "text": [
      "Random number (decimal): 4925\n",
      "Random number (binary): 0001001100111101\n"
     ]
    }
   ],
   "source": [
    "# Output the result\n",
    "print(\"Random number (decimal):\", random_number)\n",
    "print(\"Random number (binary):\", binary_number)\n"
   ]
  },
  {
   "cell_type": "code",
   "execution_count": null,
   "id": "5746d014-2f6e-4a94-a851-9502d1a6c974",
   "metadata": {},
   "outputs": [],
   "source": []
  }
 ],
 "metadata": {
  "kernelspec": {
   "display_name": "Python 3 (ipykernel)",
   "language": "python",
   "name": "python3"
  },
  "language_info": {
   "codemirror_mode": {
    "name": "ipython",
    "version": 3
   },
   "file_extension": ".py",
   "mimetype": "text/x-python",
   "name": "python",
   "nbconvert_exporter": "python",
   "pygments_lexer": "ipython3",
   "version": "3.11.7"
  }
 },
 "nbformat": 4,
 "nbformat_minor": 5
}
