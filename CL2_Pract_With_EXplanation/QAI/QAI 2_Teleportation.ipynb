{
 "cells": [
  {
   "cell_type": "code",
   "execution_count": 10,
   "id": "462d7801",
   "metadata": {},
   "outputs": [],
   "source": [
    "# Implement Quantum Teleportation algorithm in Python"
   ]
  },
  {
   "cell_type": "code",
   "execution_count": 11,
   "id": "401be8fb",
   "metadata": {},
   "outputs": [],
   "source": [
    "# !pip install qiskit\n",
    "# !pip install matplotlib\n",
    "from qiskit.circuit import QuantumCircuit\n",
    "from qiskit.visualization import plot_histogram\n",
    "from qiskit_aer import AerSimulator\n",
    "from qiskit import transpile\n",
    "\n"
   ]
  },
  {
   "cell_type": "code",
   "execution_count": 12,
   "id": "9ab08fc7",
   "metadata": {},
   "outputs": [],
   "source": [
    "# Create a quantum circuit with 3 qubits and 3 classical bits\n",
    "circuit = QuantumCircuit(3, 3)\n",
    "\n"
   ]
  },
  {
   "cell_type": "code",
   "execution_count": 13,
   "id": "9a412d93",
   "metadata": {},
   "outputs": [
    {
     "data": {
      "text/html": [
       "<pre style=\"word-wrap: normal;white-space: pre;background: #fff0;line-height: 1.1;font-family: &quot;Courier New&quot;,Courier,monospace\">     ┌───┐ ░                ┌───┐ ░ ┌─┐    ░         \n",
       "q_0: ┤ X ├─░─────────────■──┤ H ├─░─┤M├────░───────■─\n",
       "     └───┘ ░ ┌───┐     ┌─┴─┐└───┘ ░ └╥┘┌─┐ ░       │ \n",
       "q_1: ──────░─┤ H ├──■──┤ X ├──────░──╫─┤M├─░───■───┼─\n",
       "           ░ └───┘┌─┴─┐└───┘      ░  ║ └╥┘ ░ ┌─┴─┐ │ \n",
       "q_2: ──────░──────┤ X ├───────────░──╫──╫──░─┤ X ├─■─\n",
       "           ░      └───┘           ░  ║  ║  ░ └───┘   \n",
       "c: 3/════════════════════════════════╩══╩════════════\n",
       "                                     0  1            </pre>"
      ],
      "text/plain": [
       "     ┌───┐ ░                ┌───┐ ░ ┌─┐    ░         \n",
       "q_0: ┤ X ├─░─────────────■──┤ H ├─░─┤M├────░───────■─\n",
       "     └───┘ ░ ┌───┐     ┌─┴─┐└───┘ ░ └╥┘┌─┐ ░       │ \n",
       "q_1: ──────░─┤ H ├──■──┤ X ├──────░──╫─┤M├─░───■───┼─\n",
       "           ░ └───┘┌─┴─┐└───┘      ░  ║ └╥┘ ░ ┌─┴─┐ │ \n",
       "q_2: ──────░──────┤ X ├───────────░──╫──╫──░─┤ X ├─■─\n",
       "           ░      └───┘           ░  ║  ║  ░ └───┘   \n",
       "c: 3/════════════════════════════════╩══╩════════════\n",
       "                                     0  1            "
      ]
     },
     "execution_count": 13,
     "metadata": {},
     "output_type": "execute_result"
    }
   ],
   "source": [
    "# Step 1: Apply an X gate on qubit 0 to prepare it in the state |1>\n",
    "circuit.x(0)\n",
    "\n",
    "# Add a barrier to separate different stages in the circuit for clarity\n",
    "circuit.barrier(range(3))\n",
    "\n",
    "# Step 2: Apply Hadamard gate to qubit 1 to put it in superposition state\n",
    "circuit.h(1)\n",
    "\n",
    "# Step 3: Apply CNOT gate to qubits 1 and 2 to create an entangled pair (Bell state)\n",
    "circuit.cx(1, 2)\n",
    "\n",
    "# Step 4: Entangle qubit 0 (Sharanya's qubit) with qubit 1\n",
    "circuit.cx(0, 1)\n",
    "\n",
    "# Step 5: Apply Hadamard gate to qubit 0 to create the superposition for teleportation\n",
    "circuit.h(0)\n",
    "\n",
    "# Add a barrier to separate stages of the circuit\n",
    "circuit.barrier(range(3))\n",
    "\n",
    "# Step 6: Measure qubits 0 and 1, storing results in classical bits 0 and 1\n",
    "circuit.measure(range(2), range(2))\n",
    "\n",
    "# Add a barrier before performing any further operations\n",
    "circuit.barrier(range(3))\n",
    "\n",
    "# Step 7: Apply CNOT gate to qubits 1 and 2 based on the classical bits measurement\n",
    "circuit.cx(1, 2)\n",
    "\n",
    "# Step 8: Apply CZ gate to qubits 0 and 2 to correct the state of Kartik’s qubit\n",
    "circuit.cz(0, 2)\n",
    "\n",
    "# Draw the quantum circuit diagram for visualization\n",
    "circuit.draw()\n",
    "\n"
   ]
  },
  {
   "cell_type": "markdown",
   "id": "1aa97e70",
   "metadata": {},
   "source": [
    "Simulation"
   ]
  },
  {
   "cell_type": "code",
   "execution_count": 14,
   "id": "0d4c3531",
   "metadata": {},
   "outputs": [],
   "source": [
    "# Step 9: Use the AerSimulator backend to simulate the quantum circuit\n",
    "backend = AerSimulator()\n",
    "\n"
   ]
  },
  {
   "cell_type": "code",
   "execution_count": 15,
   "id": "1bf2d8b0",
   "metadata": {},
   "outputs": [],
   "source": [
    "# Step 10: Transpile the circuit for the backend\n",
    "qc_compiled = transpile(circuit, backend)\n",
    "\n"
   ]
  },
  {
   "cell_type": "code",
   "execution_count": 16,
   "id": "b58b3ab6",
   "metadata": {},
   "outputs": [],
   "source": [
    "# Step 11: Run the simulation with 1024 shots\n",
    "job_sim = backend.run(qc_compiled, shots=1024)\n",
    "\n",
    "# Step 12: Retrieve the result of the simulation\n",
    "result_sim = job_sim.result()\n",
    "\n",
    "\n"
   ]
  },
  {
   "cell_type": "code",
   "execution_count": 17,
   "id": "e924ae50",
   "metadata": {},
   "outputs": [
    {
     "name": "stdout",
     "output_type": "stream",
     "text": [
      "{'010': 249, '001': 268, '000': 256, '011': 251}\n"
     ]
    }
   ],
   "source": [
    "# Step 13: Get the counts (measurement outcomes) from the result\n",
    "counts = result_sim.get_counts(qc_compiled)\n",
    "\n",
    "# Print the measurement counts to see the results\n",
    "print(counts)\n",
    "\n"
   ]
  },
  {
   "cell_type": "code",
   "execution_count": 18,
   "id": "9ed6feb2",
   "metadata": {},
   "outputs": [
    {
     "data": {
      "image/png": "[encoded data removed]",
      "text/plain": [
       "<Figure size 640x480 with 1 Axes>"
      ]
     },
     "execution_count": 18,
     "metadata": {},
     "output_type": "execute_result"
    }
   ],
   "source": [
    "# Step 14: Plot a histogram of the measurement results\n",
    "plot_histogram(counts)\n"
   ]
  },
  {
   "cell_type": "code",
   "execution_count": null,
   "id": "dcbafc6a",
   "metadata": {},
   "outputs": [],
   "source": []
  },
  {
   "cell_type": "code",
   "execution_count": null,
   "id": "862389b5",
   "metadata": {},
   "outputs": [],
   "source": []
  }
 ],
 "metadata": {
  "kernelspec": {
   "display_name": "Python 3 (ipykernel)",
   "language": "python",
   "name": "python3"
  },
  "language_info": {
   "codemirror_mode": {
    "name": "ipython",
    "version": 3
   },
   "file_extension": ".py",
   "mimetype": "text/x-python",
   "name": "python",
   "nbconvert_exporter": "python",
   "pygments_lexer": "ipython3",
   "version": "3.11.7"
  }
 },
 "nbformat": 4,
 "nbformat_minor": 5
}
